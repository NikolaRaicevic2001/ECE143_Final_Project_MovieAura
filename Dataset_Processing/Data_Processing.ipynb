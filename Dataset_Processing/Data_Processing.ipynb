{
  "cells": [
    {
      "cell_type": "markdown",
      "metadata": {
        "id": "Bj_-kgjPptkH"
      },
      "source": [
        "### Installing Required Packages"
      ]
    },
    {
      "cell_type": "code",
      "execution_count": null,
      "metadata": {
        "colab": {
          "base_uri": "https://localhost:8080/"
        },
        "id": "XCJ77xZqptKb",
        "outputId": "09fbcffd-f2da-4691-e42e-2ffe8323f3ff"
      },
      "outputs": [
        {
          "name": "stdout",
          "output_type": "stream",
          "text": [
            "Requirement already satisfied: thefuzz in /usr/local/lib/python3.10/dist-packages (0.22.1)\n",
            "Requirement already satisfied: rapidfuzz<4.0.0,>=3.0.0 in /usr/local/lib/python3.10/dist-packages (from thefuzz) (3.10.1)\n",
            "Collecting fuzzywuzzy\n",
            "  Downloading fuzzywuzzy-0.18.0-py2.py3-none-any.whl.metadata (4.9 kB)\n",
            "Downloading fuzzywuzzy-0.18.0-py2.py3-none-any.whl (18 kB)\n",
            "Installing collected packages: fuzzywuzzy\n",
            "Successfully installed fuzzywuzzy-0.18.0\n"
          ]
        }
      ],
      "source": [
        "!pip install thefuzz\n",
        "!pip install fuzzywuzzy"
      ]
    },
    {
      "cell_type": "markdown",
      "metadata": {
        "id": "M7Al0MpPpR6x"
      },
      "source": [
        "### Loading Datasets"
      ]
    },
    {
      "cell_type": "code",
      "execution_count": null,
      "metadata": {
        "colab": {
          "base_uri": "https://localhost:8080/"
        },
        "id": "hIa0o3g5oqtz",
        "outputId": "2f4be63e-b7d0-4798-eef3-a31bbd8534f4"
      },
      "outputs": [
        {
          "name": "stderr",
          "output_type": "stream",
          "text": [
            "/usr/local/lib/python3.10/dist-packages/fuzzywuzzy/fuzz.py:11: UserWarning: Using slow pure-python SequenceMatcher. Install python-Levenshtein to remove this warning\n",
            "  warnings.warn('Using slow pure-python SequenceMatcher. Install python-Levenshtein to remove this warning')\n"
          ]
        }
      ],
      "source": [
        "import kagglehub\n",
        "import pandas as pd\n",
        "from thefuzz import fuzz, process\n",
        "from fuzzywuzzy import fuzz, process\n",
        "\n",
        "#########################\n",
        "####### Dowload #########\n",
        "#########################\n",
        "# dataset_path_metacritic = kagglehub.dataset_download(\"kashifsahil/16000-movies-1910-2024-metacritic\")\n",
        "# dataset_path_TMDB = kagglehub.dataset_download(\"asaniczka/tmdb-movies-dataset-2023-930k-movies\")\n",
        "\n",
        "# print(\"Path to Metacritic files:\", dataset_path_metacritic)\n",
        "# print(\"Path to TMDB files:\", dataset_path_TMDB)"
      ]
    },
    {
      "cell_type": "markdown",
      "metadata": {
        "id": "57VqKsUypc4j"
      },
      "source": [
        "### Mounting Datasets"
      ]
    },
    {
      "cell_type": "code",
      "execution_count": null,
      "metadata": {
        "colab": {
          "base_uri": "https://localhost:8080/"
        },
        "id": "-lkSb_ddpbyq",
        "outputId": "31119984-f34e-4fb6-96dc-a873304ddba5"
      },
      "outputs": [
        {
          "name": "stdout",
          "output_type": "stream",
          "text": [
            "Drive already mounted at /content/drive; to attempt to forcibly remount, call drive.mount(\"/content/drive\", force_remount=True).\n"
          ]
        }
      ],
      "source": [
        "from google.colab import drive\n",
        "drive.mount('/content/drive')\n",
        "\n",
        "Path_Nikola_Metacritic = '/content/drive/MyDrive/UCSD_Fall_2024/ECE143/ECE143 - Final Project/Datasets/16k_Movies.csv'\n",
        "Path_Nikola_TMDB = '/content/drive/MyDrive/UCSD_Fall_2024/ECE143/ECE143 - Final Project/Datasets/TMDB_movie_dataset_v11.csv'\n",
        "\n",
        "# Obtaining csv files and converting them to dataframe\n",
        "df_01 = pd.read_csv(Path_Nikola_Metacritic)\n",
        "df_02 = pd.read_csv(Path_Nikola_TMDB)"
      ]
    },
    {
      "cell_type": "markdown",
      "metadata": {
        "id": "Xd2SmRn-qM9c"
      },
      "source": [
        "### DataProcessing - Merging two datasets by mathing movie titles with fuzzy match"
      ]
    },
    {
      "cell_type": "code",
      "source": [
        "# Normalize titles in both datasets to lowercase for direct matching\n",
        "df_01['Title_norm'] = df_01['Title'].str.lower()\n",
        "df_02['Title_norm'] = df_02['title'].str.lower()\n",
        "\n",
        "# Drop rows with NaN values in 'Title_norm' to avoid errors during matching\n",
        "df_01 = df_01.dropna(subset=['Title_norm'])\n",
        "df_02 = df_02.dropna(subset=['Title_norm'])\n",
        "\n",
        "# Remove duplicate titles within each dataset before merging\n",
        "df_01 = df_01.drop_duplicates(subset=['Title_norm'])\n",
        "df_02 = df_02.drop_duplicates(subset=['Title_norm'])\n",
        "\n",
        "# Merge datasets directly on the normalized title columns\n",
        "merged_df = pd.merge(df_01, df_02, on='Title_norm', suffixes=('_df1', '_df2'))\n",
        "\n",
        "# Drop the normalized title column if not needed for further analysis\n",
        "merged_df = merged_df.drop(columns=['Title_norm'])\n",
        "merged_df = merged_df.drop(columns=['Unnamed: 0'])\n",
        "merged_df = merged_df.drop(columns=['Genres'])\n",
        "\n",
        "merged_df = merged_df.rename(columns={'genres': 'Genres'})\n",
        "\n",
        "# Convert 'Release Date' column to datetime, handling any errors by setting invalid dates to NaT (Not a Time)\n",
        "merged_df['Release Date'] = pd.to_datetime(merged_df['Release Date'], errors='coerce')\n",
        "\n",
        "# Remove any remaining duplicates in the merged DataFrame\n",
        "merged_df = merged_df.drop_duplicates()\n",
        "\n",
        "# Print the result\n",
        "print(f\"Merged {len(merged_df)} movies based on exact title matching\")\n",
        "print(\"Merged Movies DataFrame:\\n\", merged_df.head(10))"
      ],
      "metadata": {
        "colab": {
          "base_uri": "https://localhost:8080/"
        },
        "id": "6bMfNXViyM8P",
        "outputId": "33d83fcb-640c-4498-9626-b05b202f8f9a"
      },
      "execution_count": null,
      "outputs": [
        {
          "output_type": "stream",
          "name": "stdout",
          "text": [
            "Merged 14010 movies based on exact title matching\n",
            "Merged Movies DataFrame:\n",
            "                Title Release Date  \\\n",
            "0  Three Colors: Red   1994-11-23   \n",
            "1     The Conformist   1970-10-22   \n",
            "2        Tokyo Story   1972-03-13   \n",
            "3      The Godfather   1972-03-24   \n",
            "4            Boyhood   2014-07-11   \n",
            "5           Playtime   1973-06-27   \n",
            "6    Army of Shadows   2006-04-28   \n",
            "7          Moonlight   2016-10-21   \n",
            "8    Pan's Labyrinth   2006-12-29   \n",
            "9        Hoop Dreams   1994-10-14   \n",
            "\n",
            "                                         Description  Rating  \\\n",
            "0  Krzysztof Kieslowski closes his Three Colors t...     8.3   \n",
            "1  Set in Rome in the 1930s, this re-release of B...     7.3   \n",
            "2  Yasujiro Ozu’s Tokyo Story follows an aging co...     8.1   \n",
            "3  Francis Ford Coppola's epic features Marlon Br...     9.3   \n",
            "4  Filmed over 12 years with the same cast, Richa...     7.5   \n",
            "5  Monsieur Hulot curiously wanders around a high...     7.7   \n",
            "6  Making its U.S. debut, Jean-Pierre Melville's ...     7.7   \n",
            "7  Moonlight is the tender, heartbreaking story o...     NaN   \n",
            "8  Following a bloody civil war, young Ofelia ent...     8.8   \n",
            "9  Two inner-city Chicago boys with hopes of beco...     8.2   \n",
            "\n",
            "  No of Persons Voted           Directed by  \\\n",
            "0                 241  Krzysztof Kieslowski   \n",
            "1                 106   Bernardo Bertolucci   \n",
            "2                 147          Yasujirô Ozu   \n",
            "3               4,102  Francis Ford Coppola   \n",
            "4               2,677     Richard Linklater   \n",
            "5                  22          Jacques Tati   \n",
            "6                  67  Jean-Pierre Melville   \n",
            "7                 NaN    Paula van der Oest   \n",
            "8               1,872    Guillermo del Toro   \n",
            "9                 120           Steve James   \n",
            "\n",
            "                                          Written by  Duration      id  \\\n",
            "0  Krzysztof Kieslowski, Krzysztof Piesiewicz, Ag...  1 h 39 m     110   \n",
            "1               Alberto Moravia, Bernardo Bertolucci  1 h 47 m    8416   \n",
            "2                            Kôgo Noda, Yasujirô Ozu  2 h 16 m   18148   \n",
            "3                   Mario Puzo, Francis Ford Coppola  2 h 55 m     238   \n",
            "4                                  Richard Linklater  2 h 45 m   85350   \n",
            "5       Jacques Tati, Jacques Lagrange, Art Buchwald  2 h 35 m   10227   \n",
            "6                Joseph Kessel, Jean-Pierre Melville  2 h 25 m   15383   \n",
            "7                                        Carel Donck  1 h 31 m  376867   \n",
            "8                                 Guillermo del Toro  1 h 58 m    1417   \n",
            "9                                                NaN  2 h 50 m   14275   \n",
            "\n",
            "               title  ...          original_title  \\\n",
            "0  Three Colors: Red  ...  Trois couleurs : Rouge   \n",
            "1     The Conformist  ...          Il conformista   \n",
            "2        Tokyo Story  ...                    東京物語   \n",
            "3      The Godfather  ...           The Godfather   \n",
            "4            Boyhood  ...                 Boyhood   \n",
            "5           PlayTime  ...                PlayTime   \n",
            "6    Army of Shadows  ...      L'Armée des ombres   \n",
            "7          Moonlight  ...               Moonlight   \n",
            "8    Pan's Labyrinth  ...  El laberinto del fauno   \n",
            "9        Hoop Dreams  ...             Hoop Dreams   \n",
            "\n",
            "                                            overview popularity  \\\n",
            "0  Valentine, a student model in Geneva, struggle...     20.455   \n",
            "1  A weak-willed Italian man becomes a fascist fl...     14.733   \n",
            "2  The elderly Shukishi and his wife, Tomi, take ...     19.826   \n",
            "3  Spanning the years 1945 to 1955, a chronicle o...    158.448   \n",
            "4  The film tells a story of a divorced couple tr...     18.637   \n",
            "5  Clumsy Monsieur Hulot finds himself perplexed ...     15.441   \n",
            "6  Betrayed by an informant, Philippe Gerbier fin...     10.734   \n",
            "7  The tender, heartbreaking story of a young man...     16.748   \n",
            "8  Living with her tyrannical stepfather in a new...     35.672   \n",
            "9  Every school day, African-American teenagers W...      6.954   \n",
            "\n",
            "                        poster_path  \\\n",
            "0   /JHmsBiX1tjCKqAul1lzC20WcAW.jpg   \n",
            "1  /6bzQJ1LeS8BfPPvYrcnhm38zXjU.jpg   \n",
            "2  /g2YbTYKpY7N2yDSk7BfXZ18I5QV.jpg   \n",
            "3  /3bhkrj58Vtu7enYsRolD1fZdja1.jpg   \n",
            "4  /2BvtvDUyxiMJ4dmKfiQf4qdOHQN.jpg   \n",
            "5  /np9R8uUI1q1bWKnNMm3Bvq6u0Sz.jpg   \n",
            "6  /aqNZWM9bspt8zaDvVRIRiWxRVJ7.jpg   \n",
            "7  /4911T5FbJ9eD2Faz5Z8cT3SUhU3.jpg   \n",
            "8  /2VVhikIxoztAXEDQZLOdtBsu6vf.jpg   \n",
            "9  /gLzHl2XBtVwycl8DxdOXRHPm8G3.jpg   \n",
            "\n",
            "                                             tagline                   Genres  \\\n",
            "0                                                NaN  Drama, Mystery, Romance   \n",
            "1                                  A dazzling movie.                    Drama   \n",
            "2  As long as life goes on, relationships between...                    Drama   \n",
            "3                         An offer you can't refuse.             Drama, Crime   \n",
            "4                            12 years in the making.                    Drama   \n",
            "5                                                NaN                   Comedy   \n",
            "6      Betrayal. Loyalty. Collaboration. Resistance.     War, Drama, Thriller   \n",
            "7                    This is the story of a lifetime                    Drama   \n",
            "8  What happens when make-believe believes it's r...      Fantasy, Drama, War   \n",
            "9                       An Extraordinary True Story.              Documentary   \n",
            "\n",
            "                                production_companies  \\\n",
            "0  Zespół Filmowy TOR, Le Studio Canal+, France 3...   \n",
            "1  Marianne Productions, Maran Film, Mars Film Pr...   \n",
            "2                                           Shochiku   \n",
            "3                      Paramount, Alfran Productions   \n",
            "4             Detour Filmproduction, IFC Productions   \n",
            "5                           Jolly Film, Specta Films   \n",
            "6                        Fono Roma, Les Films Corona   \n",
            "7                  A24, Plan B Entertainment, PASTEL   \n",
            "8  Estudios Picasso, Esperanto Filmoj, Tequila Ga...   \n",
            "9               Fine Line Features, Kartemquin Films   \n",
            "\n",
            "                      production_countries                  spoken_languages  \\\n",
            "0              France, Poland, Switzerland                            French   \n",
            "1                   Germany, France, Italy  Latin, Italian, Mandarin, French   \n",
            "2                                    Japan                 English, Japanese   \n",
            "3                 United States of America           English, Italian, Latin   \n",
            "4                 United States of America                  Spanish, English   \n",
            "5                            France, Italy           German, French, English   \n",
            "6                            France, Italy           English, French, German   \n",
            "7                 United States of America                           English   \n",
            "8  Mexico, Spain, United States of America                           Spanish   \n",
            "9                 United States of America                           English   \n",
            "\n",
            "                                            keywords  \n",
            "0  infidelity, judge, isolation, shadowing, engli...  \n",
            "1  paris, france, hitman, italy, fascism, childho...  \n",
            "2  fish, beach, dream, baby, coma, peace, boat, c...  \n",
            "3  based on novel or book, loss of loved one, lov...  \n",
            "4  high school, family's daily life, college, urb...  \n",
            "5  paris, france, modernity, restaurant, modern s...  \n",
            "6  czech, paris, france, based on novel or book, ...  \n",
            "7  drug dealer, high school, florida, drug abuse,...  \n",
            "8  princess, army, spain, fairy tale, resistance,...  \n",
            "9  chicago, illinois, sports, narration, ghetto, ...  \n",
            "\n",
            "[10 rows x 32 columns]\n"
          ]
        }
      ]
    },
    {
      "cell_type": "code",
      "execution_count": null,
      "metadata": {
        "id": "x3qkGGAtp-by"
      },
      "outputs": [],
      "source": [
        "class MovieDataset:\n",
        "    def __init__(self, dataset):\n",
        "        \"\"\"\n",
        "        Initialize the MovieDataset class by loading the dataset from the provided path.\n",
        "\n",
        "        :param dataset_path: str, optional path to the downloaded dataset CSV file.\n",
        "        \"\"\"\n",
        "        self.df = dataset\n",
        "\n",
        "    def get_column_names(self):\n",
        "        \"\"\"\n",
        "        Get a list of column names in the dataset.\n",
        "\n",
        "        :return: list of column names\n",
        "        \"\"\"\n",
        "        return self.df.columns.tolist()\n",
        "\n",
        "    def get_movie_titles(self, num_titles=10):\n",
        "        \"\"\"\n",
        "        Get a specified number of movie titles.\n",
        "\n",
        "        :param num_titles: int, number of movie titles to return\n",
        "        :return: list of movie titles\n",
        "        \"\"\"\n",
        "        return self.df['Title'].head(num_titles).tolist()\n",
        "\n",
        "    def filter_by_year(self, start_year, end_year):\n",
        "        \"\"\"\n",
        "        Filter movies within a specified year range.\n",
        "\n",
        "        :param start_year: int, start of the year range\n",
        "        :param end_year: int, end of the year range\n",
        "        :return: DataFrame containing movies in the specified year range\n",
        "        \"\"\"\n",
        "\n",
        "        # Extract the release year from the 'Release Date' column\n",
        "        self.df['Release Year'] = self.df['Release Date'].dt.year\n",
        "\n",
        "        # Filter the dataset by year range\n",
        "        return self.df[(self.df['Release Year'] >= start_year) & (self.df['Release Year'] <= end_year)]\n",
        "\n",
        "    def get_movie_info(self, title):\n",
        "        \"\"\"\n",
        "        Get detailed information about a movie by its title.\n",
        "\n",
        "        :param title: str, the title of the movie\n",
        "        :return: Series containing the movie details or None if not found\n",
        "        \"\"\"\n",
        "        movie = self.df[self.df['Title'] == title]\n",
        "        return movie.iloc[0] if not movie.empty else None\n"
      ]
    },
    {
      "cell_type": "markdown",
      "metadata": {
        "id": "sFP73XtzqCmq"
      },
      "source": []
    },
    {
      "cell_type": "code",
      "execution_count": null,
      "metadata": {
        "id": "2rAO5Z0FqDEx"
      },
      "outputs": [],
      "source": [
        "    # Example usage\n",
        "    movies = MovieDataset(merged_df)\n",
        "\n",
        "    # Display column names\n",
        "    print(\"Column Names:\", movies.get_column_names())\n",
        "\n",
        "    # Display first 10 movie titles\n",
        "    print(\"First 10 Movie Titles:\", movies.get_movie_titles(num_titles=10))\n",
        "\n",
        "    # Filter movies released between 2000 and 2010\n",
        "    filtered_movies = movies.filter_by_year(2000, 2005)\n",
        "    print(\"Movies from 2000 to 2010:\\n\", filtered_movies.head())\n",
        "\n",
        "    # Get details for a specific movie\n",
        "    movie_info = movies.get_movie_info(\"Inception\")\n",
        "    print(\"Movie Information:\\n\", movie_info)"
      ]
    },
    {
      "cell_type": "markdown",
      "source": [
        "### Save the merged data into csv"
      ],
      "metadata": {
        "id": "0zV3D0ed2q0F"
      }
    },
    {
      "cell_type": "code",
      "source": [
        "    merged_df.to_csv('Movies_Merged.csv', index=False)"
      ],
      "metadata": {
        "id": "qflxJAPT2n2i"
      },
      "execution_count": null,
      "outputs": []
    }
  ],
  "metadata": {
    "colab": {
      "provenance": []
    },
    "kernelspec": {
      "display_name": "Python 3",
      "name": "python3"
    },
    "language_info": {
      "name": "python"
    }
  },
  "nbformat": 4,
  "nbformat_minor": 0
}